{
 "cells": [
  {
   "cell_type": "code",
   "execution_count": 1,
   "metadata": {},
   "outputs": [],
   "source": [
    "import torch\n",
    "import numpy as np\n",
    "import os\n",
    "import sys\n",
    "import matplotlib.pyplot as plt"
   ]
  },
  {
   "cell_type": "markdown",
   "metadata": {},
   "source": [
    "### Load Predictions"
   ]
  },
  {
   "cell_type": "code",
   "execution_count": 2,
   "metadata": {},
   "outputs": [],
   "source": [
    "datapath_py =\"resources/saved/py_predicted_cycle.txt\"\n",
    "datapath_cpp =\"resources/saved/cpp_predicted_cycle.txt\"\n",
    "\n",
    "def read_predictions(datapath):\n",
    "    with open(datapath) as file_content:\n",
    "        file_content = [i for i in file_content.readlines()]\n",
    "    \n",
    "    out=[]\n",
    "    for i in file_content:\n",
    "        if i == '\\n':\n",
    "            print(\"Skip Empty line\")\n",
    "            continue\n",
    "        out_pair = list(map(float, i.split()))\n",
    "        out.append(out_pair)\n",
    "    \n",
    "    return np.array(out)"
   ]
  },
  {
   "cell_type": "code",
   "execution_count": 3,
   "metadata": {},
   "outputs": [
    {
     "name": "stdout",
     "output_type": "stream",
     "text": [
      "Skip Empty line\n",
      "Skip Empty line\n"
     ]
    }
   ],
   "source": [
    "py_pred = read_predictions(datapath_py)\n",
    "cpp_pred = read_predictions(datapath_cpp)"
   ]
  },
  {
   "cell_type": "markdown",
   "metadata": {},
   "source": [
    "### Print Predictions"
   ]
  },
  {
   "cell_type": "code",
   "execution_count": 4,
   "metadata": {},
   "outputs": [
    {
     "name": "stdout",
     "output_type": "stream",
     "text": [
      "Python fwd pass:  [[0.21623683 0.78376317]\n",
      " [0.21018669 0.78981334]\n",
      " [0.68355036 0.31644967]\n",
      " [0.14434026 0.85565972]\n",
      " [0.19162259 0.80837739]\n",
      " [0.65566438 0.34433565]\n",
      " [0.06425371 0.93574631]\n",
      " [0.63653803 0.363462  ]\n",
      " [0.0741361  0.92586386]\n",
      " [0.76896942 0.2310306 ]\n",
      " [0.28831816 0.71168184]\n",
      " [0.88230246 0.1176975 ]\n",
      " [0.52083325 0.47916675]]\n",
      "C++ fwd pass:  [[0.216237 0.783763]\n",
      " [0.210187 0.789813]\n",
      " [0.68355  0.31645 ]\n",
      " [0.14434  0.85566 ]\n",
      " [0.191623 0.808377]\n",
      " [0.655664 0.344336]\n",
      " [0.064254 0.935746]\n",
      " [0.636538 0.363462]\n",
      " [0.074136 0.925864]\n",
      " [0.768969 0.231031]\n",
      " [0.288318 0.711682]\n",
      " [0.882303 0.117697]\n",
      " [0.520833 0.479167]]\n"
     ]
    }
   ],
   "source": [
    "print(\"Python fwd pass: \", py_pred)\n",
    "print(\"C++ fwd pass: \", cpp_pred)"
   ]
  },
  {
   "cell_type": "markdown",
   "metadata": {},
   "source": [
    "### Scatter Plots"
   ]
  },
  {
   "cell_type": "code",
   "execution_count": 5,
   "metadata": {},
   "outputs": [
    {
     "data": {
      "text/plain": [
       "<matplotlib.collections.PathCollection at 0x1295c4cf8>"
      ]
     },
     "execution_count": 5,
     "metadata": {},
     "output_type": "execute_result"
    },
    {
     "data": {
      "image/png": "[encoded data removed]",
      "text/plain": [
       "<Figure size 432x288 with 1 Axes>"
      ]
     },
     "metadata": {
      "needs_background": "light"
     },
     "output_type": "display_data"
    }
   ],
   "source": [
    "plt.scatter(py_pred[:,0], py_pred[:,1])"
   ]
  },
  {
   "cell_type": "code",
   "execution_count": 6,
   "metadata": {
    "scrolled": true
   },
   "outputs": [
    {
     "data": {
      "text/plain": [
       "<matplotlib.collections.PathCollection at 0x1296c4ef0>"
      ]
     },
     "execution_count": 6,
     "metadata": {},
     "output_type": "execute_result"
    },
    {
     "data": {
      "image/png": "[encoded data removed]",
      "text/plain": [
       "<Figure size 432x288 with 1 Axes>"
      ]
     },
     "metadata": {
      "needs_background": "light"
     },
     "output_type": "display_data"
    }
   ],
   "source": [
    "plt.scatter(cpp_pred[:,0], cpp_pred[:,1])"
   ]
  },
  {
   "cell_type": "markdown",
   "metadata": {},
   "source": [
    "### Error"
   ]
  },
  {
   "cell_type": "code",
   "execution_count": 7,
   "metadata": {},
   "outputs": [],
   "source": [
    "err_arr = py_pred-cpp_pred"
   ]
  },
  {
   "cell_type": "code",
   "execution_count": 8,
   "metadata": {
    "scrolled": false
   },
   "outputs": [
    {
     "data": {
      "text/plain": [
       "array([[-1.70242310e-07,  1.70242310e-07],\n",
       "       [-3.09907913e-07,  3.39710236e-07],\n",
       "       [ 3.57818604e-07, -3.28016281e-07],\n",
       "       [ 2.61816978e-07, -2.76718140e-07],\n",
       "       [-4.14941788e-07,  3.85139465e-07],\n",
       "       [ 3.84365082e-07, -3.54562759e-07],\n",
       "       [-2.89789677e-07,  3.12141418e-07],\n",
       "       [ 2.87170410e-08,  1.08528136e-09],\n",
       "       [ 1.00709438e-07, -1.37962341e-07],\n",
       "       [ 4.16618347e-07, -4.01717186e-07],\n",
       "       [ 1.57196045e-07, -1.57196045e-07],\n",
       "       [-5.36945343e-07,  4.99692440e-07],\n",
       "       [ 2.53860474e-07, -2.53860474e-07]])"
      ]
     },
     "execution_count": 8,
     "metadata": {},
     "output_type": "execute_result"
    }
   ],
   "source": [
    "err_arr"
   ]
  },
  {
   "cell_type": "markdown",
   "metadata": {},
   "source": [
    "### Norm"
   ]
  },
  {
   "cell_type": "code",
   "execution_count": 9,
   "metadata": {},
   "outputs": [
    {
     "name": "stdout",
     "output_type": "stream",
     "text": [
      "Norms for python predictions and c++ predictions: 2.948778180317615 2.9487779999525228\n"
     ]
    }
   ],
   "source": [
    "py_pred_norm = np.linalg.norm(py_pred)\n",
    "cpp_pred_norm = np.linalg.norm(cpp_pred)\n",
    "\n",
    "print(\"Norms for python predictions and c++ predictions:\", py_pred_norm, cpp_pred_norm)"
   ]
  },
  {
   "cell_type": "markdown",
   "metadata": {},
   "source": [
    "### np.allclose()"
   ]
  },
  {
   "cell_type": "code",
   "execution_count": 10,
   "metadata": {},
   "outputs": [
    {
     "data": {
      "text/plain": [
       "True"
      ]
     },
     "execution_count": 10,
     "metadata": {},
     "output_type": "execute_result"
    }
   ],
   "source": [
    "# True if two arrays are element-wise equal within a tolerance.\n",
    "np.allclose(py_pred, cpp_pred) # default rtol=1e-05 "
   ]
  }
 ],
 "metadata": {
  "kernelspec": {
   "display_name": "Python 3",
   "language": "python",
   "name": "python3"
  },
  "language_info": {
   "codemirror_mode": {
    "name": "ipython",
    "version": 3
   },
   "file_extension": ".py",
   "mimetype": "text/x-python",
   "name": "python",
   "nbconvert_exporter": "python",
   "pygments_lexer": "ipython3",
   "version": "3.6.9"
  }
 },
 "nbformat": 4,
 "nbformat_minor": 2
}
